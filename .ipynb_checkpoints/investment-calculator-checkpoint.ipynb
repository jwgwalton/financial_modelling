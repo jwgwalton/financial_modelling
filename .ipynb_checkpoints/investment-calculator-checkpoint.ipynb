{
 "cells": [
  {
   "cell_type": "code",
   "execution_count": 1,
   "metadata": {},
   "outputs": [],
   "source": [
    "import numpy as np\n",
    "import matplotlib.pyplot as plt"
   ]
  },
  {
   "cell_type": "code",
   "execution_count": 2,
   "metadata": {},
   "outputs": [
    {
     "data": {
      "text/plain": [
       "'\\nA model for the expected returns on savings invested in a diversified fund\\n'"
      ]
     },
     "execution_count": 2,
     "metadata": {},
     "output_type": "execute_result"
    }
   ],
   "source": [
    "'''\n",
    "A model for the expected returns on savings invested in a diversified fund\n",
    "'''"
   ]
  },
  {
   "cell_type": "code",
   "execution_count": 3,
   "metadata": {},
   "outputs": [],
   "source": [
    "number_of_years = 10\n",
    "average_yearly_growth = 0.07 # annualised returns over the course of the investment period\n",
    "amount_saved_per_month = 500"
   ]
  },
  {
   "cell_type": "code",
   "execution_count": 4,
   "metadata": {},
   "outputs": [],
   "source": [
    "number_of_months = number_of_years * 12\n",
    "average_growth_monthly = (1 + average_yearly_growth)**(1/12)-1"
   ]
  },
  {
   "cell_type": "code",
   "execution_count": 5,
   "metadata": {},
   "outputs": [
    {
     "name": "stdout",
     "output_type": "stream",
     "text": [
      "Period 0: Current Investment Balance: 500.0\n",
      "Period 1: Current Investment Balance: 1002.83\n",
      "Period 2: Current Investment Balance: 1508.5\n",
      "Period 3: Current Investment Balance: 2017.03\n",
      "Period 4: Current Investment Balance: 2528.43\n",
      "Period 5: Current Investment Balance: 3042.73\n",
      "Period 6: Current Investment Balance: 3559.93\n",
      "Period 7: Current Investment Balance: 4080.06\n",
      "Period 8: Current Investment Balance: 4603.13\n",
      "Period 9: Current Investment Balance: 5129.16\n",
      "Period 10: Current Investment Balance: 5658.16\n",
      "Period 11: Current Investment Balance: 6190.15\n",
      "Period 12: Current Investment Balance: 6725.15\n",
      "Period 13: Current Investment Balance: 7263.17\n",
      "Period 14: Current Investment Balance: 7804.24\n",
      "Period 15: Current Investment Balance: 8348.37\n",
      "Period 16: Current Investment Balance: 8895.57\n",
      "Period 17: Current Investment Balance: 9445.87\n",
      "Period 18: Current Investment Balance: 9999.27\n",
      "Period 19: Current Investment Balance: 10555.81\n",
      "Period 20: Current Investment Balance: 11115.5\n",
      "Period 21: Current Investment Balance: 11678.35\n",
      "Period 22: Current Investment Balance: 12244.38\n",
      "Period 23: Current Investment Balance: 12813.61\n",
      "Period 24: Current Investment Balance: 13386.06\n",
      "Period 25: Current Investment Balance: 13961.74\n",
      "Period 26: Current Investment Balance: 14540.69\n",
      "Period 27: Current Investment Balance: 15122.9\n",
      "Period 28: Current Investment Balance: 15708.41\n",
      "Period 29: Current Investment Balance: 16297.23\n",
      "Period 30: Current Investment Balance: 16889.37\n",
      "Period 31: Current Investment Balance: 17484.87\n",
      "Period 32: Current Investment Balance: 18083.73\n",
      "Period 33: Current Investment Balance: 18685.98\n",
      "Period 34: Current Investment Balance: 19291.63\n",
      "Period 35: Current Investment Balance: 19900.71\n",
      "Period 36: Current Investment Balance: 20513.23\n",
      "Period 37: Current Investment Balance: 21129.21\n",
      "Period 38: Current Investment Balance: 21748.68\n",
      "Period 39: Current Investment Balance: 22371.65\n",
      "Period 40: Current Investment Balance: 22998.15\n",
      "Period 41: Current Investment Balance: 23628.18\n",
      "Period 42: Current Investment Balance: 24261.78\n",
      "Period 43: Current Investment Balance: 24898.96\n",
      "Period 44: Current Investment Balance: 25539.74\n",
      "Period 45: Current Investment Balance: 26184.14\n",
      "Period 46: Current Investment Balance: 26832.19\n",
      "Period 47: Current Investment Balance: 27483.91\n",
      "Period 48: Current Investment Balance: 28139.3\n",
      "Period 49: Current Investment Balance: 28798.41\n",
      "Period 50: Current Investment Balance: 29461.24\n",
      "Period 51: Current Investment Balance: 30127.82\n",
      "Period 52: Current Investment Balance: 30798.16\n",
      "Period 53: Current Investment Balance: 31472.3\n",
      "Period 54: Current Investment Balance: 32150.25\n",
      "Period 55: Current Investment Balance: 32832.03\n",
      "Period 56: Current Investment Balance: 33517.67\n",
      "Period 57: Current Investment Balance: 34207.18\n",
      "Period 58: Current Investment Balance: 34900.6\n",
      "Period 59: Current Investment Balance: 35597.93\n",
      "Period 60: Current Investment Balance: 36299.2\n",
      "Period 61: Current Investment Balance: 37004.45\n",
      "Period 62: Current Investment Balance: 37713.67\n",
      "Period 63: Current Investment Balance: 38426.91\n",
      "Period 64: Current Investment Balance: 39144.18\n",
      "Period 65: Current Investment Balance: 39865.51\n",
      "Period 66: Current Investment Balance: 40590.92\n",
      "Period 67: Current Investment Balance: 41320.42\n",
      "Period 68: Current Investment Balance: 42054.06\n",
      "Period 69: Current Investment Balance: 42791.83\n",
      "Period 70: Current Investment Balance: 43533.79\n",
      "Period 71: Current Investment Balance: 44279.93\n",
      "Period 72: Current Investment Balance: 45030.3\n",
      "Period 73: Current Investment Balance: 45784.91\n",
      "Period 74: Current Investment Balance: 46543.78\n",
      "Period 75: Current Investment Balance: 47306.95\n",
      "Period 76: Current Investment Balance: 48074.43\n",
      "Period 77: Current Investment Balance: 48846.25\n",
      "Period 78: Current Investment Balance: 49622.43\n",
      "Period 79: Current Investment Balance: 50403.0\n",
      "Period 80: Current Investment Balance: 51187.99\n",
      "Period 81: Current Investment Balance: 51977.41\n",
      "Period 82: Current Investment Balance: 52771.3\n",
      "Period 83: Current Investment Balance: 53569.68\n",
      "Period 84: Current Investment Balance: 54372.57\n",
      "Period 85: Current Investment Balance: 55180.0\n",
      "Period 86: Current Investment Balance: 55991.99\n",
      "Period 87: Current Investment Balance: 56808.58\n",
      "Period 88: Current Investment Balance: 57629.78\n",
      "Period 89: Current Investment Balance: 58455.63\n",
      "Period 90: Current Investment Balance: 59286.15\n",
      "Period 91: Current Investment Balance: 60121.36\n",
      "Period 92: Current Investment Balance: 60961.3\n",
      "Period 93: Current Investment Balance: 61805.98\n",
      "Period 94: Current Investment Balance: 62655.44\n",
      "Period 95: Current Investment Balance: 63509.7\n",
      "Period 96: Current Investment Balance: 64368.8\n",
      "Period 97: Current Investment Balance: 65232.75\n",
      "Period 98: Current Investment Balance: 66101.58\n",
      "Period 99: Current Investment Balance: 66975.33\n",
      "Period 100: Current Investment Balance: 67854.02\n",
      "Period 101: Current Investment Balance: 68737.67\n",
      "Period 102: Current Investment Balance: 69626.33\n",
      "Period 103: Current Investment Balance: 70520.0\n",
      "Period 104: Current Investment Balance: 71418.73\n",
      "Period 105: Current Investment Balance: 72322.55\n",
      "Period 106: Current Investment Balance: 73231.47\n",
      "Period 107: Current Investment Balance: 74145.53\n",
      "Period 108: Current Investment Balance: 75064.76\n",
      "Period 109: Current Investment Balance: 75989.19\n",
      "Period 110: Current Investment Balance: 76918.84\n",
      "Period 111: Current Investment Balance: 77853.75\n",
      "Period 112: Current Investment Balance: 78793.95\n",
      "Period 113: Current Investment Balance: 79739.46\n",
      "Period 114: Current Investment Balance: 80690.32\n",
      "Period 115: Current Investment Balance: 81646.55\n",
      "Period 116: Current Investment Balance: 82608.19\n",
      "Period 117: Current Investment Balance: 83575.27\n",
      "Period 118: Current Investment Balance: 84547.82\n",
      "Period 119: Current Investment Balance: 85525.87\n"
     ]
    }
   ],
   "source": [
    "# Initialize the investments array\n",
    "investment_portfolio = np.repeat(0.0, number_of_months)\n",
    "investment_deposit_forecast = np.repeat(amount_saved_per_month, number_of_months)\n",
    "\n",
    "# Loop through each forecast period\n",
    "for i in range(number_of_months):\n",
    "    \n",
    "    # Find the previous investment deposit amount\n",
    "    if i == 0: \n",
    "        previous_investment = 0\n",
    "    else:\n",
    "        previous_investment = investment_portfolio[i-1]\n",
    "        \n",
    "    # Calculate the value of your previous investments, which have grown\n",
    "    previous_investment_growth = previous_investment*(1 + average_growth_monthly)\n",
    "    \n",
    "    # Add your new deposit to your investment portfolio\n",
    "    investment_portfolio[i] =  previous_investment_growth + investment_deposit_forecast[i]\n",
    "        \n",
    "    print(f\"Period {i}: Current Investment Balance: {round(investment_portfolio[i], 2)}\")\n",
    "         "
   ]
  },
  {
   "cell_type": "code",
   "execution_count": 6,
   "metadata": {},
   "outputs": [
    {
     "data": {
      "image/png": "[encoded data removed]",
      "text/plain": [
       "<matplotlib.figure.Figure at 0x10ec05358>"
      ]
     },
     "metadata": {},
     "output_type": "display_data"
    }
   ],
   "source": [
    "# Plot your forecasted cumulative savings vs investments and net worth\n",
    "plt.plot(investment_portfolio, color='red')\n",
    "plt.show()"
   ]
  },
  {
   "cell_type": "code",
   "execution_count": 7,
   "metadata": {},
   "outputs": [],
   "source": [
    "# TODO:\n",
    "# Take into account inflation?\n",
    "# Continuous growth of amount invested / stepwise growth"
   ]
  }
 ],
 "metadata": {
  "kernelspec": {
   "display_name": "Python 3",
   "language": "python",
   "name": "python3"
  },
  "language_info": {
   "codemirror_mode": {
    "name": "ipython",
    "version": 3
   },
   "file_extension": ".py",
   "mimetype": "text/x-python",
   "name": "python",
   "nbconvert_exporter": "python",
   "pygments_lexer": "ipython3",
   "version": "3.6.5"
  }
 },
 "nbformat": 4,
 "nbformat_minor": 2
}
