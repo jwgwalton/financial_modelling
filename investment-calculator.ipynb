{
 "cells": [
  {
   "cell_type": "code",
   "execution_count": 7,
   "metadata": {},
   "outputs": [],
   "source": [
    "import numpy as np\n",
    "import matplotlib.pyplot as plt"
   ]
  },
  {
   "cell_type": "code",
   "execution_count": 2,
   "metadata": {},
   "outputs": [
    {
     "data": {
      "text/plain": [
       "'\\nA model for the expected returns on savings invested in a diversified fund\\n'"
      ]
     },
     "execution_count": 2,
     "metadata": {},
     "output_type": "execute_result"
    }
   ],
   "source": [
    "'''\n",
    "A model for the expected returns on savings invested in a diversified fund\n",
    "'''"
   ]
  },
  {
   "cell_type": "code",
   "execution_count": 11,
   "metadata": {},
   "outputs": [],
   "source": [
    "number_of_years = 5\n",
    "average_yearly_growth = 0.07\n",
    "amount_saved_per_month = 500"
   ]
  },
  {
   "cell_type": "code",
   "execution_count": 12,
   "metadata": {},
   "outputs": [],
   "source": [
    "number_of_months = number_of_years * 12\n",
    "average_growth_monthly = (1 + average_yearly_growth)**(1/12)-1"
   ]
  },
  {
   "cell_type": "code",
   "execution_count": 16,
   "metadata": {},
   "outputs": [
    {
     "name": "stdout",
     "output_type": "stream",
     "text": [
      "Period 0: Current Investment Balance: 500.0\n",
      "Period 1: Current Investment Balance: 1002.83\n",
      "Period 2: Current Investment Balance: 1508.5\n",
      "Period 3: Current Investment Balance: 2017.03\n",
      "Period 4: Current Investment Balance: 2528.43\n",
      "Period 5: Current Investment Balance: 3042.73\n",
      "Period 6: Current Investment Balance: 3559.93\n",
      "Period 7: Current Investment Balance: 4080.06\n",
      "Period 8: Current Investment Balance: 4603.13\n",
      "Period 9: Current Investment Balance: 5129.16\n",
      "Period 10: Current Investment Balance: 5658.16\n",
      "Period 11: Current Investment Balance: 6190.15\n",
      "Period 12: Current Investment Balance: 6725.15\n",
      "Period 13: Current Investment Balance: 7263.17\n",
      "Period 14: Current Investment Balance: 7804.24\n",
      "Period 15: Current Investment Balance: 8348.37\n",
      "Period 16: Current Investment Balance: 8895.57\n",
      "Period 17: Current Investment Balance: 9445.87\n",
      "Period 18: Current Investment Balance: 9999.27\n",
      "Period 19: Current Investment Balance: 10555.81\n",
      "Period 20: Current Investment Balance: 11115.5\n",
      "Period 21: Current Investment Balance: 11678.35\n",
      "Period 22: Current Investment Balance: 12244.38\n",
      "Period 23: Current Investment Balance: 12813.61\n",
      "Period 24: Current Investment Balance: 13386.06\n",
      "Period 25: Current Investment Balance: 13961.74\n",
      "Period 26: Current Investment Balance: 14540.69\n",
      "Period 27: Current Investment Balance: 15122.9\n",
      "Period 28: Current Investment Balance: 15708.41\n",
      "Period 29: Current Investment Balance: 16297.23\n",
      "Period 30: Current Investment Balance: 16889.37\n",
      "Period 31: Current Investment Balance: 17484.87\n",
      "Period 32: Current Investment Balance: 18083.73\n",
      "Period 33: Current Investment Balance: 18685.98\n",
      "Period 34: Current Investment Balance: 19291.63\n",
      "Period 35: Current Investment Balance: 19900.71\n",
      "Period 36: Current Investment Balance: 20513.23\n",
      "Period 37: Current Investment Balance: 21129.21\n",
      "Period 38: Current Investment Balance: 21748.68\n",
      "Period 39: Current Investment Balance: 22371.65\n",
      "Period 40: Current Investment Balance: 22998.15\n",
      "Period 41: Current Investment Balance: 23628.18\n",
      "Period 42: Current Investment Balance: 24261.78\n",
      "Period 43: Current Investment Balance: 24898.96\n",
      "Period 44: Current Investment Balance: 25539.74\n",
      "Period 45: Current Investment Balance: 26184.14\n",
      "Period 46: Current Investment Balance: 26832.19\n",
      "Period 47: Current Investment Balance: 27483.91\n",
      "Period 48: Current Investment Balance: 28139.3\n",
      "Period 49: Current Investment Balance: 28798.41\n",
      "Period 50: Current Investment Balance: 29461.24\n",
      "Period 51: Current Investment Balance: 30127.82\n",
      "Period 52: Current Investment Balance: 30798.16\n",
      "Period 53: Current Investment Balance: 31472.3\n",
      "Period 54: Current Investment Balance: 32150.25\n",
      "Period 55: Current Investment Balance: 32832.03\n",
      "Period 56: Current Investment Balance: 33517.67\n",
      "Period 57: Current Investment Balance: 34207.18\n",
      "Period 58: Current Investment Balance: 34900.6\n",
      "Period 59: Current Investment Balance: 35597.93\n"
     ]
    }
   ],
   "source": [
    "# Initialize the investments array\n",
    "investment_portfolio = np.repeat(0.0, number_of_months)\n",
    "investment_deposit_forecast = np.repeat(amount_saved_per_month, number_of_months)\n",
    "\n",
    "# Loop through each forecast period\n",
    "for i in range(number_of_months):\n",
    "    \n",
    "    # Find the previous investment deposit amount\n",
    "    if i == 0: \n",
    "        previous_investment = 0\n",
    "    else:\n",
    "        previous_investment = investment_portfolio[i-1]\n",
    "        \n",
    "    # Calculate the value of your previous investments, which have grown\n",
    "    previous_investment_growth = previous_investment*(1 + average_growth_monthly)\n",
    "    \n",
    "    # Add your new deposit to your investment portfolio\n",
    "    investment_portfolio[i] =  previous_investment_growth + investment_deposit_forecast[i]\n",
    "        \n",
    "    print(f\"Period {i}: Current Investment Balance: {round(investment_portfolio[i], 2)}\")\n",
    "         "
   ]
  },
  {
   "cell_type": "code",
   "execution_count": 14,
   "metadata": {},
   "outputs": [
    {
     "data": {
      "image/png": "[encoded data removed]",
      "text/plain": [
       "<matplotlib.figure.Figure at 0x108e02940>"
      ]
     },
     "metadata": {},
     "output_type": "display_data"
    }
   ],
   "source": [
    "# Plot your forecasted cumulative savings vs investments and net worth\n",
    "plt.plot(investment_portfolio, color='red')\n",
    "plt.show()"
   ]
  },
  {
   "cell_type": "code",
   "execution_count": null,
   "metadata": {},
   "outputs": [],
   "source": [
    "# TODO: taken into account inflation?"
   ]
  },
  {
   "cell_type": "code",
   "execution_count": null,
   "metadata": {},
   "outputs": [],
   "source": []
  }
 ],
 "metadata": {
  "kernelspec": {
   "display_name": "Python 3",
   "language": "python",
   "name": "python3"
  },
  "language_info": {
   "codemirror_mode": {
    "name": "ipython",
    "version": 3
   },
   "file_extension": ".py",
   "mimetype": "text/x-python",
   "name": "python",
   "nbconvert_exporter": "python",
   "pygments_lexer": "ipython3",
   "version": "3.6.5"
  }
 },
 "nbformat": 4,
 "nbformat_minor": 2
}
