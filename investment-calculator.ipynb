{
 "cells": [
  {
   "cell_type": "code",
   "execution_count": 37,
   "metadata": {},
   "outputs": [],
   "source": [
    "import numpy as np\n",
    "import matplotlib.pyplot as plt"
   ]
  },
  {
   "cell_type": "code",
   "execution_count": 38,
   "metadata": {},
   "outputs": [
    {
     "data": {
      "text/plain": [
       "'\\nA model for the expected returns on savings invested in a diversified fund\\n'"
      ]
     },
     "execution_count": 38,
     "metadata": {},
     "output_type": "execute_result"
    }
   ],
   "source": [
    "'''\n",
    "A model for the expected returns on savings invested in a diversified fund\n",
    "'''"
   ]
  },
  {
   "cell_type": "code",
   "execution_count": 39,
   "metadata": {},
   "outputs": [],
   "source": [
    "# Tunable params \n",
    "number_of_years = 5\n",
    "average_yearly_growth = 0.07 # annualised returns over the course of the investment period\n",
    "amount_saved_per_month = 500"
   ]
  },
  {
   "cell_type": "code",
   "execution_count": 40,
   "metadata": {},
   "outputs": [],
   "source": [
    "number_of_months = number_of_years * 12\n",
    "average_growth_monthly = (1 + average_yearly_growth)**(1/12)-1"
   ]
  },
  {
   "cell_type": "code",
   "execution_count": 44,
   "metadata": {},
   "outputs": [],
   "source": [
    "def calculate_investment_portfolio(investment_deposit_forecast, average_growth_monthly):\n",
    "    # Initialize the investments array\n",
    "    number_of_months = len(investment_deposit_forecast)\n",
    "    investment_portfolio = np.repeat(0.0, number_of_months)\n",
    "\n",
    "    # Loop through each forecast period\n",
    "    for i in range(number_of_months):\n",
    "    \n",
    "        # Find the previous investment deposit amount\n",
    "        if i == 0: \n",
    "            previous_investment = 0\n",
    "        else:\n",
    "            previous_investment = investment_portfolio[i-1]\n",
    "        \n",
    "        # Calculate the value of your previous investments, which have grown\n",
    "        previous_investment_growth = previous_investment*(1 + average_growth_monthly)\n",
    "    \n",
    "        # Add your new deposit to your investment portfolio\n",
    "        investment_portfolio[i] =  previous_investment_growth + investment_deposit_forecast[i]\n",
    "        \n",
    "        print(f\"Year {i // 12} Month {i%12 + 1}: Current Investment Balance: {round(investment_portfolio[i], 2)}\")\n",
    "        \n",
    "    return investment_portfolio"
   ]
  },
  {
   "cell_type": "code",
   "execution_count": 48,
   "metadata": {},
   "outputs": [],
   "source": [
    "def plot_investment_portfolio_graph(investment_portfolio):\n",
    "    plt.plot(investment_portfolio, color='red')\n",
    "    plt.title(\"Investment Portfolio Value\")\n",
    "    plt.xlabel(\"Months\")\n",
    "    plt.ylabel('Value in £')\n",
    "    plt.show()"
   ]
  },
  {
   "cell_type": "code",
   "execution_count": 49,
   "metadata": {},
   "outputs": [
    {
     "name": "stdout",
     "output_type": "stream",
     "text": [
      "Year 0 Month 1: Current Investment Balance: 500.0\n",
      "Year 0 Month 2: Current Investment Balance: 1002.83\n",
      "Year 0 Month 3: Current Investment Balance: 1508.5\n",
      "Year 0 Month 4: Current Investment Balance: 2017.03\n",
      "Year 0 Month 5: Current Investment Balance: 2528.43\n",
      "Year 0 Month 6: Current Investment Balance: 3042.73\n",
      "Year 0 Month 7: Current Investment Balance: 3559.93\n",
      "Year 0 Month 8: Current Investment Balance: 4080.06\n",
      "Year 0 Month 9: Current Investment Balance: 4603.13\n",
      "Year 0 Month 10: Current Investment Balance: 5129.16\n",
      "Year 0 Month 11: Current Investment Balance: 5658.16\n",
      "Year 0 Month 12: Current Investment Balance: 6190.15\n",
      "Year 1 Month 1: Current Investment Balance: 6725.15\n",
      "Year 1 Month 2: Current Investment Balance: 7263.17\n",
      "Year 1 Month 3: Current Investment Balance: 7804.24\n",
      "Year 1 Month 4: Current Investment Balance: 8348.37\n",
      "Year 1 Month 5: Current Investment Balance: 8895.57\n",
      "Year 1 Month 6: Current Investment Balance: 9445.87\n",
      "Year 1 Month 7: Current Investment Balance: 9999.27\n",
      "Year 1 Month 8: Current Investment Balance: 10555.81\n",
      "Year 1 Month 9: Current Investment Balance: 11115.5\n",
      "Year 1 Month 10: Current Investment Balance: 11678.35\n",
      "Year 1 Month 11: Current Investment Balance: 12244.38\n",
      "Year 1 Month 12: Current Investment Balance: 12813.61\n",
      "Year 2 Month 1: Current Investment Balance: 13386.06\n",
      "Year 2 Month 2: Current Investment Balance: 13961.74\n",
      "Year 2 Month 3: Current Investment Balance: 14540.69\n",
      "Year 2 Month 4: Current Investment Balance: 15122.9\n",
      "Year 2 Month 5: Current Investment Balance: 15708.41\n",
      "Year 2 Month 6: Current Investment Balance: 16297.23\n",
      "Year 2 Month 7: Current Investment Balance: 16889.37\n",
      "Year 2 Month 8: Current Investment Balance: 17484.87\n",
      "Year 2 Month 9: Current Investment Balance: 18083.73\n",
      "Year 2 Month 10: Current Investment Balance: 18685.98\n",
      "Year 2 Month 11: Current Investment Balance: 19291.63\n",
      "Year 2 Month 12: Current Investment Balance: 19900.71\n",
      "Year 3 Month 1: Current Investment Balance: 20513.23\n",
      "Year 3 Month 2: Current Investment Balance: 21129.21\n",
      "Year 3 Month 3: Current Investment Balance: 21748.68\n",
      "Year 3 Month 4: Current Investment Balance: 22371.65\n",
      "Year 3 Month 5: Current Investment Balance: 22998.15\n",
      "Year 3 Month 6: Current Investment Balance: 23628.18\n",
      "Year 3 Month 7: Current Investment Balance: 24261.78\n",
      "Year 3 Month 8: Current Investment Balance: 24898.96\n",
      "Year 3 Month 9: Current Investment Balance: 25539.74\n",
      "Year 3 Month 10: Current Investment Balance: 26184.14\n",
      "Year 3 Month 11: Current Investment Balance: 26832.19\n",
      "Year 3 Month 12: Current Investment Balance: 27483.91\n",
      "Year 4 Month 1: Current Investment Balance: 28139.3\n",
      "Year 4 Month 2: Current Investment Balance: 28798.41\n",
      "Year 4 Month 3: Current Investment Balance: 29461.24\n",
      "Year 4 Month 4: Current Investment Balance: 30127.82\n",
      "Year 4 Month 5: Current Investment Balance: 30798.16\n",
      "Year 4 Month 6: Current Investment Balance: 31472.3\n",
      "Year 4 Month 7: Current Investment Balance: 32150.25\n",
      "Year 4 Month 8: Current Investment Balance: 32832.03\n",
      "Year 4 Month 9: Current Investment Balance: 33517.67\n",
      "Year 4 Month 10: Current Investment Balance: 34207.18\n",
      "Year 4 Month 11: Current Investment Balance: 34900.6\n",
      "Year 4 Month 12: Current Investment Balance: 35597.93\n"
     ]
    },
    {
     "data": {
      "image/png": "[encoded data removed]",
      "text/plain": [
       "<matplotlib.figure.Figure at 0x10f283d68>"
      ]
     },
     "metadata": {},
     "output_type": "display_data"
    }
   ],
   "source": [
    "# Constant saving per month\n",
    "investment_deposit_forecast = np.repeat(amount_saved_per_month, number_of_months)\n",
    "\n",
    "investment_portfolio = calculate_investment_portfolio(investment_deposit_forecast, average_growth_monthly)\n",
    "plot_investment_portfolio_graph(investment_portfolio)"
   ]
  },
  {
   "cell_type": "code",
   "execution_count": null,
   "metadata": {},
   "outputs": [],
   "source": [
    "# Testing piecewise growth of investments"
   ]
  },
  {
   "cell_type": "code",
   "execution_count": 52,
   "metadata": {},
   "outputs": [],
   "source": [
    "first_quarter = np.repeat(amount_saved_per_month, number_of_months/4)\n",
    "second_quarter = np.repeat(amount_saved_per_month*2, number_of_months/4)\n",
    "third_quarter = np.repeat(amount_saved_per_month*2.5, number_of_months/4)\n",
    "fourth_quarter = np.repeat(amount_saved_per_month*3, number_of_months/4)\n",
    "\n",
    "variable_deposit_forecast = np.concatenate((first_quarter, second_quarter, third_quarter, fourth_quarter), axis=0)"
   ]
  },
  {
   "cell_type": "code",
   "execution_count": null,
   "metadata": {},
   "outputs": [],
   "source": [
    "investment_portfolio = calculate_investment_portfolio(variable_deposit_forecast, average_growth_monthly)\n",
    "plot_investment_portfolio_graph(investment_portfolio)"
   ]
  },
  {
   "cell_type": "code",
   "execution_count": null,
   "metadata": {},
   "outputs": [],
   "source": [
    "# could do a rule based system where every year (most likely frequency with pay rise, i add the expected take home increase to the invesment)"
   ]
  }
 ],
 "metadata": {
  "kernelspec": {
   "display_name": "Python 3",
   "language": "python",
   "name": "python3"
  },
  "language_info": {
   "codemirror_mode": {
    "name": "ipython",
    "version": 3
   },
   "file_extension": ".py",
   "mimetype": "text/x-python",
   "name": "python",
   "nbconvert_exporter": "python",
   "pygments_lexer": "ipython3",
   "version": "3.6.5"
  }
 },
 "nbformat": 4,
 "nbformat_minor": 2
}
