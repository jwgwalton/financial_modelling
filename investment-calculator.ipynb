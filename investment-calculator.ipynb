{
 "cells": [
  {
   "cell_type": "code",
   "execution_count": 1,
   "metadata": {},
   "outputs": [],
   "source": [
    "import numpy as np\n",
    "import matplotlib.pyplot as plt"
   ]
  },
  {
   "cell_type": "code",
   "execution_count": 2,
   "metadata": {},
   "outputs": [
    {
     "data": {
      "text/plain": [
       "'\\nA model for the expected returns on savings invested in a diversified fund\\n'"
      ]
     },
     "execution_count": 2,
     "metadata": {},
     "output_type": "execute_result"
    }
   ],
   "source": [
    "'''\n",
    "A model for the expected returns on savings invested in a diversified fund\n",
    "'''"
   ]
  },
  {
   "cell_type": "code",
   "execution_count": 3,
   "metadata": {},
   "outputs": [],
   "source": [
    "# Tunable params \n",
    "number_of_years = 5\n",
    "average_yearly_growth = 0.07 # annualised returns over the course of the investment period\n",
    "amount_saved_per_month = 500"
   ]
  },
  {
   "cell_type": "code",
   "execution_count": 4,
   "metadata": {},
   "outputs": [],
   "source": [
    "number_of_months = number_of_years * 12\n",
    "average_growth_monthly = (1 + average_yearly_growth)**(1/12)-1"
   ]
  },
  {
   "cell_type": "code",
   "execution_count": 5,
   "metadata": {},
   "outputs": [],
   "source": [
    "def calculate_investment_portfolio(investment_deposit_forecast, average_growth_monthly, starting_balance=0, print_output=False):\n",
    "    # Initialize the investments array\n",
    "    number_of_months = len(investment_deposit_forecast)\n",
    "    investment_portfolio = np.repeat(0.0, number_of_months)\n",
    "\n",
    "    # Loop through each forecast period\n",
    "    for i in range(number_of_months):\n",
    "    \n",
    "        # Find the previous investment deposit amount\n",
    "        if i == 0: \n",
    "            previous_investment = starting_balance\n",
    "        else:\n",
    "            previous_investment = investment_portfolio[i-1]\n",
    "        \n",
    "        # Calculate the value of your previous investments, which have grown\n",
    "        previous_investment_growth = previous_investment*(1 + average_growth_monthly)\n",
    "    \n",
    "        # Add your new deposit to your investment portfolio\n",
    "        investment_portfolio[i] =  previous_investment_growth + investment_deposit_forecast[i]\n",
    "        \n",
    "        if print_output:\n",
    "            print(f\"Year {i // 12} Month {i%12 + 1}: Current Investment Balance: {round(investment_portfolio[i], 2)}\")\n",
    "        \n",
    "    return investment_portfolio"
   ]
  },
  {
   "cell_type": "code",
   "execution_count": 6,
   "metadata": {},
   "outputs": [],
   "source": [
    "def plot_investment_portfolio_graph(investment_portfolio):\n",
    "    plt.plot(investment_portfolio, color='red')\n",
    "    plt.title(\"Investment Portfolio Value\")\n",
    "    plt.xlabel(\"Months\")\n",
    "    plt.ylabel('Value in £')\n",
    "    plt.show()"
   ]
  },
  {
   "cell_type": "code",
   "execution_count": 7,
   "metadata": {},
   "outputs": [
    {
     "name": "stdout",
     "output_type": "stream",
     "text": [
      "Year 0 Month 1: Current Investment Balance: 500.0\n",
      "Year 0 Month 2: Current Investment Balance: 1002.83\n",
      "Year 0 Month 3: Current Investment Balance: 1508.5\n",
      "Year 0 Month 4: Current Investment Balance: 2017.03\n",
      "Year 0 Month 5: Current Investment Balance: 2528.43\n",
      "Year 0 Month 6: Current Investment Balance: 3042.73\n",
      "Year 0 Month 7: Current Investment Balance: 3559.93\n",
      "Year 0 Month 8: Current Investment Balance: 4080.06\n",
      "Year 0 Month 9: Current Investment Balance: 4603.13\n",
      "Year 0 Month 10: Current Investment Balance: 5129.16\n",
      "Year 0 Month 11: Current Investment Balance: 5658.16\n",
      "Year 0 Month 12: Current Investment Balance: 6190.15\n",
      "Year 1 Month 1: Current Investment Balance: 6725.15\n",
      "Year 1 Month 2: Current Investment Balance: 7263.17\n",
      "Year 1 Month 3: Current Investment Balance: 7804.24\n",
      "Year 1 Month 4: Current Investment Balance: 8348.37\n",
      "Year 1 Month 5: Current Investment Balance: 8895.57\n",
      "Year 1 Month 6: Current Investment Balance: 9445.87\n",
      "Year 1 Month 7: Current Investment Balance: 9999.27\n",
      "Year 1 Month 8: Current Investment Balance: 10555.81\n",
      "Year 1 Month 9: Current Investment Balance: 11115.5\n",
      "Year 1 Month 10: Current Investment Balance: 11678.35\n",
      "Year 1 Month 11: Current Investment Balance: 12244.38\n",
      "Year 1 Month 12: Current Investment Balance: 12813.61\n",
      "Year 2 Month 1: Current Investment Balance: 13386.06\n",
      "Year 2 Month 2: Current Investment Balance: 13961.74\n",
      "Year 2 Month 3: Current Investment Balance: 14540.69\n",
      "Year 2 Month 4: Current Investment Balance: 15122.9\n",
      "Year 2 Month 5: Current Investment Balance: 15708.41\n",
      "Year 2 Month 6: Current Investment Balance: 16297.23\n",
      "Year 2 Month 7: Current Investment Balance: 16889.37\n",
      "Year 2 Month 8: Current Investment Balance: 17484.87\n",
      "Year 2 Month 9: Current Investment Balance: 18083.73\n",
      "Year 2 Month 10: Current Investment Balance: 18685.98\n",
      "Year 2 Month 11: Current Investment Balance: 19291.63\n",
      "Year 2 Month 12: Current Investment Balance: 19900.71\n",
      "Year 3 Month 1: Current Investment Balance: 20513.23\n",
      "Year 3 Month 2: Current Investment Balance: 21129.21\n",
      "Year 3 Month 3: Current Investment Balance: 21748.68\n",
      "Year 3 Month 4: Current Investment Balance: 22371.65\n",
      "Year 3 Month 5: Current Investment Balance: 22998.15\n",
      "Year 3 Month 6: Current Investment Balance: 23628.18\n",
      "Year 3 Month 7: Current Investment Balance: 24261.78\n",
      "Year 3 Month 8: Current Investment Balance: 24898.96\n",
      "Year 3 Month 9: Current Investment Balance: 25539.74\n",
      "Year 3 Month 10: Current Investment Balance: 26184.14\n",
      "Year 3 Month 11: Current Investment Balance: 26832.19\n",
      "Year 3 Month 12: Current Investment Balance: 27483.91\n",
      "Year 4 Month 1: Current Investment Balance: 28139.3\n",
      "Year 4 Month 2: Current Investment Balance: 28798.41\n",
      "Year 4 Month 3: Current Investment Balance: 29461.24\n",
      "Year 4 Month 4: Current Investment Balance: 30127.82\n",
      "Year 4 Month 5: Current Investment Balance: 30798.16\n",
      "Year 4 Month 6: Current Investment Balance: 31472.3\n",
      "Year 4 Month 7: Current Investment Balance: 32150.25\n",
      "Year 4 Month 8: Current Investment Balance: 32832.03\n",
      "Year 4 Month 9: Current Investment Balance: 33517.67\n",
      "Year 4 Month 10: Current Investment Balance: 34207.18\n",
      "Year 4 Month 11: Current Investment Balance: 34900.6\n",
      "Year 4 Month 12: Current Investment Balance: 35597.93\n"
     ]
    },
    {
     "data": {
      "image/png": "[encoded data removed]",
      "text/plain": [
       "<matplotlib.figure.Figure at 0x108d0cac8>"
      ]
     },
     "metadata": {},
     "output_type": "display_data"
    }
   ],
   "source": [
    "# Constant saving per month\n",
    "investment_deposit_forecast = np.repeat(amount_saved_per_month, number_of_months)\n",
    "\n",
    "investment_portfolio = calculate_investment_portfolio(investment_deposit_forecast, average_growth_monthly, print_output=Ture)\n",
    "plot_investment_portfolio_graph(investment_portfolio)"
   ]
  },
  {
   "cell_type": "code",
   "execution_count": 8,
   "metadata": {},
   "outputs": [],
   "source": [
    "# Testing piecewise growth of investments\n",
    "# 2 years saving 500, 3 years saving 1k, 5 years saving 2k per month\n",
    "# maintaining the previous monthly growth estimate"
   ]
  },
  {
   "cell_type": "code",
   "execution_count": 9,
   "metadata": {},
   "outputs": [
    {
     "name": "stdout",
     "output_type": "stream",
     "text": [
      "Year 0 Month 1: Current Investment Balance: 500.0\n",
      "Year 0 Month 2: Current Investment Balance: 1002.83\n",
      "Year 0 Month 3: Current Investment Balance: 1508.5\n",
      "Year 0 Month 4: Current Investment Balance: 2017.03\n",
      "Year 0 Month 5: Current Investment Balance: 2528.43\n",
      "Year 0 Month 6: Current Investment Balance: 3042.73\n",
      "Year 0 Month 7: Current Investment Balance: 3559.93\n",
      "Year 0 Month 8: Current Investment Balance: 4080.06\n",
      "Year 0 Month 9: Current Investment Balance: 4603.13\n",
      "Year 0 Month 10: Current Investment Balance: 5129.16\n",
      "Year 0 Month 11: Current Investment Balance: 5658.16\n",
      "Year 0 Month 12: Current Investment Balance: 6190.15\n",
      "Year 1 Month 1: Current Investment Balance: 6725.15\n",
      "Year 1 Month 2: Current Investment Balance: 7263.17\n",
      "Year 1 Month 3: Current Investment Balance: 7804.24\n",
      "Year 1 Month 4: Current Investment Balance: 8348.37\n",
      "Year 1 Month 5: Current Investment Balance: 8895.57\n",
      "Year 1 Month 6: Current Investment Balance: 9445.87\n",
      "Year 1 Month 7: Current Investment Balance: 9999.27\n",
      "Year 1 Month 8: Current Investment Balance: 10555.81\n",
      "Year 1 Month 9: Current Investment Balance: 11115.5\n",
      "Year 1 Month 10: Current Investment Balance: 11678.35\n",
      "Year 1 Month 11: Current Investment Balance: 12244.38\n",
      "Year 1 Month 12: Current Investment Balance: 12813.61\n"
     ]
    }
   ],
   "source": [
    "# first 2 years saving 500 per month\n",
    "amount_saved_per_month = 500\n",
    "number_of_months = 24\n",
    "investment_deposit_forecast = np.repeat(amount_saved_per_month, number_of_months)\n",
    "\n",
    "investment_portfolio_1 = calculate_investment_portfolio(investment_deposit_forecast, average_growth_monthly)"
   ]
  },
  {
   "cell_type": "code",
   "execution_count": 10,
   "metadata": {},
   "outputs": [
    {
     "name": "stdout",
     "output_type": "stream",
     "text": [
      "Year 0 Month 1: Current Investment Balance: 13886.06\n",
      "Year 0 Month 2: Current Investment Balance: 14964.57\n",
      "Year 0 Month 3: Current Investment Balance: 16049.18\n",
      "Year 0 Month 4: Current Investment Balance: 17139.93\n",
      "Year 0 Month 5: Current Investment Balance: 18236.84\n",
      "Year 0 Month 6: Current Investment Balance: 19339.95\n",
      "Year 0 Month 7: Current Investment Balance: 20449.3\n",
      "Year 0 Month 8: Current Investment Balance: 21564.93\n",
      "Year 0 Month 9: Current Investment Balance: 22686.86\n",
      "Year 0 Month 10: Current Investment Balance: 23815.13\n",
      "Year 0 Month 11: Current Investment Balance: 24949.79\n",
      "Year 0 Month 12: Current Investment Balance: 26090.86\n",
      "Year 1 Month 1: Current Investment Balance: 27238.38\n",
      "Year 1 Month 2: Current Investment Balance: 28392.39\n",
      "Year 1 Month 3: Current Investment Balance: 29552.92\n",
      "Year 1 Month 4: Current Investment Balance: 30720.02\n",
      "Year 1 Month 5: Current Investment Balance: 31893.72\n",
      "Year 1 Month 6: Current Investment Balance: 33074.05\n",
      "Year 1 Month 7: Current Investment Balance: 34261.05\n",
      "Year 1 Month 8: Current Investment Balance: 35454.77\n",
      "Year 1 Month 9: Current Investment Balance: 36655.24\n",
      "Year 1 Month 10: Current Investment Balance: 37862.49\n",
      "Year 1 Month 11: Current Investment Balance: 39076.57\n",
      "Year 1 Month 12: Current Investment Balance: 40297.51\n",
      "Year 2 Month 1: Current Investment Balance: 41525.36\n",
      "Year 2 Month 2: Current Investment Balance: 42760.15\n",
      "Year 2 Month 3: Current Investment Balance: 44001.92\n",
      "Year 2 Month 4: Current Investment Balance: 45250.72\n",
      "Year 2 Month 5: Current Investment Balance: 46506.57\n",
      "Year 2 Month 6: Current Investment Balance: 47769.53\n",
      "Year 2 Month 7: Current Investment Balance: 49039.62\n",
      "Year 2 Month 8: Current Investment Balance: 50316.9\n",
      "Year 2 Month 9: Current Investment Balance: 51601.4\n",
      "Year 2 Month 10: Current Investment Balance: 52893.16\n",
      "Year 2 Month 11: Current Investment Balance: 54192.23\n",
      "Year 2 Month 12: Current Investment Balance: 55498.64\n"
     ]
    }
   ],
   "source": [
    "# year 3 - 5, save 1k\n",
    "amount_saved_per_month = 1000\n",
    "number_of_months = 36\n",
    "starting_balance = investment_portfolio_1[-1]\n",
    "\n",
    "investment_deposit_forecast = np.repeat(amount_saved_per_month, number_of_months)\n",
    "\n",
    "investment_portfolio_2 = calculate_investment_portfolio(investment_deposit_forecast, average_growth_monthly, starting_balance=starting_balance)"
   ]
  },
  {
   "cell_type": "code",
   "execution_count": 16,
   "metadata": {},
   "outputs": [
    {
     "name": "stdout",
     "output_type": "stream",
     "text": [
      "Year 0 Month 1: Current Investment Balance: 57812.43\n",
      "Year 0 Month 2: Current Investment Balance: 60139.31\n",
      "Year 0 Month 3: Current Investment Balance: 62479.35\n",
      "Year 0 Month 4: Current Investment Balance: 64832.62\n",
      "Year 0 Month 5: Current Investment Balance: 67199.19\n",
      "Year 0 Month 6: Current Investment Balance: 69579.15\n",
      "Year 0 Month 7: Current Investment Balance: 71972.56\n",
      "Year 0 Month 8: Current Investment Balance: 74379.5\n",
      "Year 0 Month 9: Current Investment Balance: 76800.05\n",
      "Year 0 Month 10: Current Investment Balance: 79234.29\n",
      "Year 0 Month 11: Current Investment Balance: 81682.29\n",
      "Year 0 Month 12: Current Investment Balance: 84144.14\n",
      "Year 1 Month 1: Current Investment Balance: 86619.9\n",
      "Year 1 Month 2: Current Investment Balance: 89109.66\n",
      "Year 1 Month 3: Current Investment Balance: 91613.5\n",
      "Year 1 Month 4: Current Investment Balance: 94131.5\n",
      "Year 1 Month 5: Current Investment Balance: 96663.73\n",
      "Year 1 Month 6: Current Investment Balance: 99210.28\n",
      "Year 1 Month 7: Current Investment Balance: 101771.23\n",
      "Year 1 Month 8: Current Investment Balance: 104346.66\n",
      "Year 1 Month 9: Current Investment Balance: 106936.65\n",
      "Year 1 Month 10: Current Investment Balance: 109541.29\n",
      "Year 1 Month 11: Current Investment Balance: 112160.65\n",
      "Year 1 Month 12: Current Investment Balance: 114794.82\n",
      "Year 2 Month 1: Current Investment Balance: 117443.89\n",
      "Year 2 Month 2: Current Investment Balance: 120107.93\n",
      "Year 2 Month 3: Current Investment Balance: 122787.04\n",
      "Year 2 Month 4: Current Investment Balance: 125481.3\n",
      "Year 2 Month 5: Current Investment Balance: 128190.78\n",
      "Year 2 Month 6: Current Investment Balance: 130915.59\n",
      "Year 2 Month 7: Current Investment Balance: 133655.81\n",
      "Year 2 Month 8: Current Investment Balance: 136411.52\n",
      "Year 2 Month 9: Current Investment Balance: 139182.81\n",
      "Year 2 Month 10: Current Investment Balance: 141969.77\n",
      "Year 2 Month 11: Current Investment Balance: 144772.49\n",
      "Year 2 Month 12: Current Investment Balance: 147591.05\n",
      "Year 3 Month 1: Current Investment Balance: 150425.55\n",
      "Year 3 Month 2: Current Investment Balance: 153276.08\n",
      "Year 3 Month 3: Current Investment Balance: 156142.73\n",
      "Year 3 Month 4: Current Investment Balance: 159025.58\n",
      "Year 3 Month 5: Current Investment Balance: 161924.73\n",
      "Year 3 Month 6: Current Investment Balance: 164840.28\n",
      "Year 3 Month 7: Current Investment Balance: 167772.31\n",
      "Year 3 Month 8: Current Investment Balance: 170720.92\n",
      "Year 3 Month 9: Current Investment Balance: 173686.2\n",
      "Year 3 Month 10: Current Investment Balance: 176668.25\n",
      "Year 3 Month 11: Current Investment Balance: 179667.16\n",
      "Year 3 Month 12: Current Investment Balance: 182683.02\n",
      "Year 4 Month 1: Current Investment Balance: 185715.94\n",
      "Year 4 Month 2: Current Investment Balance: 188766.0\n",
      "Year 4 Month 3: Current Investment Balance: 191833.31\n",
      "Year 4 Month 4: Current Investment Balance: 194917.97\n",
      "Year 4 Month 5: Current Investment Balance: 198020.06\n",
      "Year 4 Month 6: Current Investment Balance: 201139.69\n",
      "Year 4 Month 7: Current Investment Balance: 204276.97\n",
      "Year 4 Month 8: Current Investment Balance: 207431.98\n",
      "Year 4 Month 9: Current Investment Balance: 210604.83\n",
      "Year 4 Month 10: Current Investment Balance: 213795.62\n",
      "Year 4 Month 11: Current Investment Balance: 217004.45\n",
      "Year 4 Month 12: Current Investment Balance: 220231.43\n"
     ]
    }
   ],
   "source": [
    "# Year 6-10, save 2k\n",
    "amount_saved_per_month = 2000\n",
    "number_of_months = 60\n",
    "starting_balance = investment_portfolio_2[-1]\n",
    "\n",
    "investment_deposit_forecast = np.repeat(amount_saved_per_month, number_of_months)\n",
    "\n",
    "investment_portfolio_3 = calculate_investment_portfolio(investment_deposit_forecast, average_growth_monthly, starting_balance=starting_balance)"
   ]
  },
  {
   "cell_type": "code",
   "execution_count": 17,
   "metadata": {},
   "outputs": [
    {
     "data": {
      "image/png": "[encoded data removed]",
      "text/plain": [
       "<matplotlib.figure.Figure at 0x108de3c50>"
      ]
     },
     "metadata": {},
     "output_type": "display_data"
    }
   ],
   "source": [
    "# view of the whole 10 years of investing\n",
    "total_investment_portfolio = np.concatenate((investment_portfolio_1, investment_portfolio_2, investment_portfolio_3,), axis=0)\n",
    "plot_investment_portfolio_graph(total_investment_portfolio)"
   ]
  },
  {
   "cell_type": "code",
   "execution_count": 13,
   "metadata": {},
   "outputs": [],
   "source": [
    "# could do a rule based system where every year (most likely frequency with pay rise)\n",
    "# I add the expected take home increase to the invesment)"
   ]
  },
  {
   "cell_type": "code",
   "execution_count": null,
   "metadata": {},
   "outputs": [],
   "source": []
  }
 ],
 "metadata": {
  "kernelspec": {
   "display_name": "Python 3",
   "language": "python",
   "name": "python3"
  },
  "language_info": {
   "codemirror_mode": {
    "name": "ipython",
    "version": 3
   },
   "file_extension": ".py",
   "mimetype": "text/x-python",
   "name": "python",
   "nbconvert_exporter": "python",
   "pygments_lexer": "ipython3",
   "version": "3.6.5"
  }
 },
 "nbformat": 4,
 "nbformat_minor": 2
}
